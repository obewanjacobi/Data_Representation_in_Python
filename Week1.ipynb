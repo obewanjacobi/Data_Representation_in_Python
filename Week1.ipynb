{
 "cells": [
  {
   "cell_type": "markdown",
   "metadata": {},
   "source": [
    "# Week 1 Course & Exploratory Work\n",
    "\n",
    "No code is actually covered in this week's material, so most of this work will be exploratory. Before diving into exploratory work however, I will attempt to write a short summary on what was covered this week.\n",
    "\n",
    "## Week 1 Summary\n",
    "\n",
    "The big idea here is that it is better to be minimalistic in regards to our data visualizations. The professor advises students to avoid trying to make your charts too \"pretty\" and avoid using unecessary color. \n",
    "\n",
    "They also talk about how charts should convey truth, both to the data scientist themselves and to the audience. \n",
    "\n",
    "## Week 1 Assignment\n",
    "\n",
    "Misleading chart found at the below link.\n",
    "\n",
    "https://www.reddit.com/r/dataisbeautiful/comments/avfscd/oc_cereal_popularity_by_shelf_levels/\n",
    "\n",
    "### Who is the intended audience\n",
    "\n",
    "The intended audience is somewhat unclear. It could be directed towards consumers who buy cereal. But seeing as how this is on Reddit, it is likely that this person is just trying to gather attention towards their profile to gain karma. So the audience in this case is likely people mindlessly scrolling through reddit who are willing to give an upvote. I know this because of the subject matter of the chart and where it is posted. \n",
    "\n",
    "###  Question set 2\n",
    "\n",
    "- **Identify the specific component(s) of the visual that is/are misleading**\n",
    "\n",
    "- **For each part(s) of the visualization that is/are misleading, identify the mechanism that is used: hiding relevant data to highlight what benefits us; displaying too much data to obscure reality; using graphic forms in inappropriate ways (distorting the data)**\n",
    "\n",
    "- **Explain how the mechanisms are used to mislead**\n",
    "\n",
    "First off, it's title immediately tells the reader what the author wants the reader to think. However the chart itself doesn't lend that much for the reader to understand that this is true. The author is using density plots to try to show this, but this makes it somewhat difficult to see what exactly is going on.\n",
    "\n",
    "As well as this, the mentions that there is an overall average and an overall mean, plots them, but then doesn't label which is which. This leaves the reader in a state of confusion as to what these lines are on the plot.\n",
    "\n",
    "And finally, the author jumps to show \"common cereals found on each shelf\", but there is no evidence to back this up. The author hides data from the reader by just cramming this figure into the image. \n",
    "\n",
    "In the end, all of these mechanisms are being used to mislead the user into thinking that cereals on the middle shelf are the least liked, when the evidence doesn't seem to prove much. We don't know how many people the author asked, the proportions could be made up from 10 people tested. That;s not statistically significant. Then readers are mislead to believe that Trix and Apple Jacks are the least liked cereals, but giving no evidence to back up this claim. \n"
   ]
  }
 ],
 "metadata": {
  "kernelspec": {
   "display_name": "Python 3",
   "language": "python",
   "name": "python3"
  },
  "language_info": {
   "codemirror_mode": {
    "name": "ipython",
    "version": 3
   },
   "file_extension": ".py",
   "mimetype": "text/x-python",
   "name": "python",
   "nbconvert_exporter": "python",
   "pygments_lexer": "ipython3",
   "version": "3.6.4"
  }
 },
 "nbformat": 4,
 "nbformat_minor": 2
}
